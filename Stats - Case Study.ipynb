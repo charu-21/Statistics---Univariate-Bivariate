{
 "cells": [
  {
   "cell_type": "markdown",
   "metadata": {
    "colab_type": "text",
    "id": "JwGL6yKJJ5jk"
   },
   "source": [
    "# Statistics Case Study\n"
   ]
  },
  {
   "cell_type": "markdown",
   "metadata": {
    "colab_type": "text",
    "id": "uZUSpXDJJ5jo"
   },
   "source": [
    "### Three datasets are combined in a single CSV file. \n",
    "\n",
    "### Description of the datasets: \n",
    "\n",
    "\n",
    "#### Online_Streaming:\n",
    "Online_Streaming contains information about \n",
    "\n",
    "    #### Age\n",
    "    #### Preference\n",
    "\n",
    "\n",
    "\n",
    "#### Admission dataset :     \n",
    "The data set consists of complete educational details of students right from their schooling to MBA and previous work experience.\n",
    "\n",
    "    #### SlNo \n",
    "    #### Gender\n",
    "    #### Percent_SSC    \n",
    "    #### Board_SSC   \n",
    "    #### Percent_HSC   \n",
    "    #### Board_HSC    \n",
    "    #### Stream_HSC   \n",
    "    #### Percent_Degree   \n",
    "    #### Course_Degree   \n",
    "    #### Experience_Yrs    \n",
    "    #### Entrance_Test    \n",
    "    #### Percentile_ET    \n",
    "    #### Percent_MBA    \n",
    "    #### Specialization_MBA    \n",
    "    #### Marks_Communication    \n",
    "    #### Marks_Projectwork    \n",
    "    #### Marks_BOCA    \n",
    "    #### Placement    \n",
    "    #### Salary\n",
    "\n",
    "    \n",
    "#### Outlet Sales :\n",
    "Outlet Sales' contains information about,\n",
    "\n",
    "    #### Item_Identifier\n",
    "    #### Item_Weight\n",
    "    #### Item_Fat_Content\n",
    "    #### Item_Visibility\n",
    "    #### Item_Type\n",
    "    #### Item_MRP\n",
    "    #### Outlet_Identifier\n",
    "    #### Outlet_Establishment_Year\n",
    "    #### Outlet_Size\n",
    "    #### Outlet_Location_Type\n",
    "    #### Outlet_Type\n",
    "    #### Item_Outlet_Sales\n"
   ]
  },
  {
   "cell_type": "markdown",
   "metadata": {},
   "source": [
    "#### Reading the dataset & importing liabraries"
   ]
  },
  {
   "cell_type": "code",
   "execution_count": 12,
   "metadata": {},
   "outputs": [],
   "source": [
    "import numpy as np\n",
    "import pandas as pd\n",
    "import seaborn as sns\n",
    "import matplotlib.pyplot as plt\n",
    "import scipy.stats as stats"
   ]
  },
  {
   "cell_type": "code",
   "execution_count": 2,
   "metadata": {
    "colab": {},
    "colab_type": "code",
    "id": "kbEjlC3RJ5jq",
    "outputId": "4e92bc0a-2b6c-423e-909b-029d685e7755"
   },
   "outputs": [
    {
     "data": {
      "text/html": [
       "<div>\n",
       "<style scoped>\n",
       "    .dataframe tbody tr th:only-of-type {\n",
       "        vertical-align: middle;\n",
       "    }\n",
       "\n",
       "    .dataframe tbody tr th {\n",
       "        vertical-align: top;\n",
       "    }\n",
       "\n",
       "    .dataframe thead th {\n",
       "        text-align: right;\n",
       "    }\n",
       "</style>\n",
       "<table border=\"1\" class=\"dataframe\">\n",
       "  <thead>\n",
       "    <tr style=\"text-align: right;\">\n",
       "      <th></th>\n",
       "      <th>Age</th>\n",
       "      <th>Preference</th>\n",
       "      <th>SlNo</th>\n",
       "      <th>Gender</th>\n",
       "      <th>Percent_SSC</th>\n",
       "      <th>Board_SSC</th>\n",
       "      <th>Percent_HSC</th>\n",
       "      <th>Board_HSC</th>\n",
       "      <th>Stream_HSC</th>\n",
       "      <th>Percent_Degree</th>\n",
       "      <th>...</th>\n",
       "      <th>Item_Fat_Content</th>\n",
       "      <th>Item_Visibility</th>\n",
       "      <th>Item_Type</th>\n",
       "      <th>Item_MRP</th>\n",
       "      <th>Outlet_Identifier</th>\n",
       "      <th>Outlet_Establishment_Year</th>\n",
       "      <th>Outlet_Size</th>\n",
       "      <th>Outlet_Location_Type</th>\n",
       "      <th>Outlet_Type</th>\n",
       "      <th>Item_Outlet_Sales</th>\n",
       "    </tr>\n",
       "  </thead>\n",
       "  <tbody>\n",
       "    <tr>\n",
       "      <td>0</td>\n",
       "      <td>Teen</td>\n",
       "      <td>Yes</td>\n",
       "      <td>1.0</td>\n",
       "      <td>M</td>\n",
       "      <td>62.00</td>\n",
       "      <td>Others</td>\n",
       "      <td>88.00</td>\n",
       "      <td>Others</td>\n",
       "      <td>Commerce</td>\n",
       "      <td>52.00</td>\n",
       "      <td>...</td>\n",
       "      <td>Low Fat</td>\n",
       "      <td>0.016047</td>\n",
       "      <td>Dairy</td>\n",
       "      <td>249.8092</td>\n",
       "      <td>OUT049</td>\n",
       "      <td>1999</td>\n",
       "      <td>Medium</td>\n",
       "      <td>Tier 1</td>\n",
       "      <td>Supermarket Type1</td>\n",
       "      <td>3735.1380</td>\n",
       "    </tr>\n",
       "    <tr>\n",
       "      <td>1</td>\n",
       "      <td>Teen</td>\n",
       "      <td>Yes</td>\n",
       "      <td>2.0</td>\n",
       "      <td>M</td>\n",
       "      <td>76.33</td>\n",
       "      <td>ICSE</td>\n",
       "      <td>75.33</td>\n",
       "      <td>Others</td>\n",
       "      <td>Science</td>\n",
       "      <td>75.48</td>\n",
       "      <td>...</td>\n",
       "      <td>Regular</td>\n",
       "      <td>0.019278</td>\n",
       "      <td>Soft Drinks</td>\n",
       "      <td>48.2692</td>\n",
       "      <td>OUT018</td>\n",
       "      <td>2009</td>\n",
       "      <td>Medium</td>\n",
       "      <td>Tier 3</td>\n",
       "      <td>Supermarket Type2</td>\n",
       "      <td>443.4228</td>\n",
       "    </tr>\n",
       "    <tr>\n",
       "      <td>2</td>\n",
       "      <td>Teen</td>\n",
       "      <td>Yes</td>\n",
       "      <td>3.0</td>\n",
       "      <td>M</td>\n",
       "      <td>72.00</td>\n",
       "      <td>Others</td>\n",
       "      <td>78.00</td>\n",
       "      <td>Others</td>\n",
       "      <td>Commerce</td>\n",
       "      <td>66.63</td>\n",
       "      <td>...</td>\n",
       "      <td>Low Fat</td>\n",
       "      <td>0.016760</td>\n",
       "      <td>Meat</td>\n",
       "      <td>141.6180</td>\n",
       "      <td>OUT049</td>\n",
       "      <td>1999</td>\n",
       "      <td>Medium</td>\n",
       "      <td>Tier 1</td>\n",
       "      <td>Supermarket Type1</td>\n",
       "      <td>2097.2700</td>\n",
       "    </tr>\n",
       "    <tr>\n",
       "      <td>3</td>\n",
       "      <td>Teen</td>\n",
       "      <td>Yes</td>\n",
       "      <td>4.0</td>\n",
       "      <td>M</td>\n",
       "      <td>60.00</td>\n",
       "      <td>CBSE</td>\n",
       "      <td>63.00</td>\n",
       "      <td>CBSE</td>\n",
       "      <td>Arts</td>\n",
       "      <td>58.00</td>\n",
       "      <td>...</td>\n",
       "      <td>Regular</td>\n",
       "      <td>0.000000</td>\n",
       "      <td>Fruits and Vegetables</td>\n",
       "      <td>182.0950</td>\n",
       "      <td>OUT010</td>\n",
       "      <td>1998</td>\n",
       "      <td>NaN</td>\n",
       "      <td>Tier 3</td>\n",
       "      <td>Grocery Store</td>\n",
       "      <td>732.3800</td>\n",
       "    </tr>\n",
       "    <tr>\n",
       "      <td>4</td>\n",
       "      <td>Teen</td>\n",
       "      <td>Yes</td>\n",
       "      <td>5.0</td>\n",
       "      <td>M</td>\n",
       "      <td>61.00</td>\n",
       "      <td>CBSE</td>\n",
       "      <td>55.00</td>\n",
       "      <td>ISC</td>\n",
       "      <td>Science</td>\n",
       "      <td>54.00</td>\n",
       "      <td>...</td>\n",
       "      <td>Low Fat</td>\n",
       "      <td>0.000000</td>\n",
       "      <td>Household</td>\n",
       "      <td>53.8614</td>\n",
       "      <td>OUT013</td>\n",
       "      <td>1987</td>\n",
       "      <td>High</td>\n",
       "      <td>Tier 3</td>\n",
       "      <td>Supermarket Type1</td>\n",
       "      <td>994.7052</td>\n",
       "    </tr>\n",
       "  </tbody>\n",
       "</table>\n",
       "<p>5 rows × 33 columns</p>\n",
       "</div>"
      ],
      "text/plain": [
       "    Age Preference  SlNo Gender  Percent_SSC Board_SSC  Percent_HSC Board_HSC  \\\n",
       "0  Teen        Yes   1.0      M        62.00    Others        88.00    Others   \n",
       "1  Teen        Yes   2.0      M        76.33      ICSE        75.33    Others   \n",
       "2  Teen        Yes   3.0      M        72.00    Others        78.00    Others   \n",
       "3  Teen        Yes   4.0      M        60.00      CBSE        63.00      CBSE   \n",
       "4  Teen        Yes   5.0      M        61.00      CBSE        55.00       ISC   \n",
       "\n",
       "  Stream_HSC  Percent_Degree  ... Item_Fat_Content  Item_Visibility  \\\n",
       "0   Commerce           52.00  ...          Low Fat         0.016047   \n",
       "1    Science           75.48  ...          Regular         0.019278   \n",
       "2   Commerce           66.63  ...          Low Fat         0.016760   \n",
       "3       Arts           58.00  ...          Regular         0.000000   \n",
       "4    Science           54.00  ...          Low Fat         0.000000   \n",
       "\n",
       "               Item_Type  Item_MRP  Outlet_Identifier  \\\n",
       "0                  Dairy  249.8092             OUT049   \n",
       "1            Soft Drinks   48.2692             OUT018   \n",
       "2                   Meat  141.6180             OUT049   \n",
       "3  Fruits and Vegetables  182.0950             OUT010   \n",
       "4              Household   53.8614             OUT013   \n",
       "\n",
       "  Outlet_Establishment_Year  Outlet_Size  Outlet_Location_Type  \\\n",
       "0                      1999       Medium                Tier 1   \n",
       "1                      2009       Medium                Tier 3   \n",
       "2                      1999       Medium                Tier 1   \n",
       "3                      1998          NaN                Tier 3   \n",
       "4                      1987         High                Tier 3   \n",
       "\n",
       "         Outlet_Type Item_Outlet_Sales  \n",
       "0  Supermarket Type1         3735.1380  \n",
       "1  Supermarket Type2          443.4228  \n",
       "2  Supermarket Type1         2097.2700  \n",
       "3      Grocery Store          732.3800  \n",
       "4  Supermarket Type1          994.7052  \n",
       "\n",
       "[5 rows x 33 columns]"
      ]
     },
     "execution_count": 2,
     "metadata": {},
     "output_type": "execute_result"
    }
   ],
   "source": [
    "data=pd.read_csv(\"Final (1).csv\")\n",
    "data.head()"
   ]
  },
  {
   "cell_type": "code",
   "execution_count": 3,
   "metadata": {
    "colab": {},
    "colab_type": "code",
    "id": "GKivZPUOJ5j3",
    "outputId": "689865f5-f299-448d-9ddf-a4418c31be2c"
   },
   "outputs": [],
   "source": [
    "Online = data.iloc[:99,:2]\n"
   ]
  },
  {
   "cell_type": "code",
   "execution_count": 4,
   "metadata": {
    "colab": {},
    "colab_type": "code",
    "id": "kbQ1YtxeJ5j-",
    "outputId": "6d57bda3-9b08-43d5-d121-c5c95d943b11"
   },
   "outputs": [],
   "source": [
    "Admission = data.iloc[:391,2:21]\n"
   ]
  },
  {
   "cell_type": "code",
   "execution_count": 5,
   "metadata": {
    "colab": {},
    "colab_type": "code",
    "id": "saP0PbuYJ5kG",
    "outputId": "0af730f1-019c-40e6-867e-bc0bd537ab1b"
   },
   "outputs": [],
   "source": [
    "Outlet = data.iloc[:,21:]\n"
   ]
  },
  {
   "cell_type": "markdown",
   "metadata": {
    "colab_type": "text",
    "id": "aLPBD6l6J5kQ"
   },
   "source": [
    "<span style=\"font-family: Arial; font-weight:bold;font-size:1.5em;\">1. A principal at a school claims that the students in his school are above average intelligence. A random sample of 45 students scores have been taken and observed mean intelligence score is 68. Is there sufficient evidence to support the principal claim as a significance level of 0.025 that the mean intelligence score is 59 with a standard deviation of 9. Assume scores are normally distributed.\n",
    "\n",
    "A.Frame Null and Alternate Hypothesis. \n",
    "\n",
    "B.State which test to be performed. \n",
    "\n",
    "C.Find the test statistic.  \n",
    "\n",
    "D.Interpret the results. "
   ]
  },
  {
   "cell_type": "code",
   "execution_count": 6,
   "metadata": {},
   "outputs": [],
   "source": [
    "n= 45\n",
    "x_bar= 68\n",
    "mu=59\n",
    "s=9"
   ]
  },
  {
   "cell_type": "code",
   "execution_count": 7,
   "metadata": {},
   "outputs": [],
   "source": [
    "# a) Framing Null and Alternate Hypothesis\n",
    "\n",
    "# H0: Mean Intelligence Score =59\n",
    "# Ha: Mean Intelligence Score !=59"
   ]
  },
  {
   "cell_type": "code",
   "execution_count": 8,
   "metadata": {},
   "outputs": [],
   "source": [
    "#b)\n",
    "\n",
    "# Test to be performed: One Sample mean(z) - Two Tail Test"
   ]
  },
  {
   "cell_type": "code",
   "execution_count": 13,
   "metadata": {
    "colab": {},
    "colab_type": "code",
    "id": "rMRPf8DzJ5kR"
   },
   "outputs": [
    {
     "name": "stdout",
     "output_type": "stream",
     "text": [
      "Value of tstat: 6.708203932499369\n",
      "Value of Critical point: 1.9599639845400545\n",
      "Value of pval: 1.9703350062627578e-11\n"
     ]
    }
   ],
   "source": [
    "# c)\n",
    "\n",
    "cp= stats.norm.isf(0.025)\n",
    "tstat= (x_bar-mu)/(s/np.sqrt(n))\n",
    "pval= (1-stats.norm.cdf(abs(tstat)))*2\n",
    "print(\"Value of tstat:\",tstat)\n",
    "print(\"Value of Critical point:\",cp)\n",
    "print(\"Value of pval:\",pval)"
   ]
  },
  {
   "cell_type": "markdown",
   "metadata": {},
   "source": [
    "#### d) Inference\n",
    "* Since value of tstat is more than critical point and pval<0.05.thus we reject Null Hypothesis, which further means that Alternate Hypothesis is True\n",
    "\n",
    "* Hence we can say that Mean intelligence is not equal to 59, therefore the principal Claim saying \"Mean Intelligence is 59\"\n",
    "is false."
   ]
  },
  {
   "cell_type": "markdown",
   "metadata": {
    "colab_type": "text",
    "id": "8ndb7R1jJ5kY"
   },
   "source": [
    "<span style=\"font-family: Arial; font-weight:bold;font-size:1.5em;\">2 .\tIt is very important to fill vehicle tyres with right pressure. Too much or too less pressure will result in lower performance or shorter life. The right amount of pressure is set at 16 psi. A random check of 8 tyres at a service station has resulted in following values. Do we have evidence to believe the that the observed tyre pressure is significantly different from 16? Assume data is normally distributed. \n",
    "\n",
    "**Observed Tyre Pressure (psi):\t16.02\t16.22\t15.82\t15.92\t16.22\t16.32\t16.12\t15.92**\n",
    "    \n",
    "A.Frame Null and Alternate Hypothesis. \n",
    "\n",
    "B.State which test to be performed.  \n",
    "\n",
    "C.Find the test statistic.  \n",
    "\n",
    "D.Interpret the results.  \n",
    " "
   ]
  },
  {
   "cell_type": "code",
   "execution_count": 14,
   "metadata": {},
   "outputs": [],
   "source": [
    "# a) Framing Null and Alternate Hypothesis\n",
    "\n",
    "# H0: Average amount of pressure = 16\n",
    "# Ha: Average amount of pressure !=16"
   ]
  },
  {
   "cell_type": "code",
   "execution_count": 15,
   "metadata": {},
   "outputs": [],
   "source": [
    "#b)\n",
    "\n",
    "# Test to be performed: One Sample mean(t) test - Two Tail Test"
   ]
  },
  {
   "cell_type": "code",
   "execution_count": 16,
   "metadata": {
    "colab": {},
    "colab_type": "code",
    "id": "rMRPf8DzJ5kR"
   },
   "outputs": [
    {
     "data": {
      "text/plain": [
       "Ttest_1sampResult(statistic=1.1168136493044576, pvalue=0.30093607677048567)"
      ]
     },
     "execution_count": 16,
     "metadata": {},
     "output_type": "execute_result"
    }
   ],
   "source": [
    "# c)\n",
    "\n",
    "obs= [16.02,16.22,15.82,15.92,16.22,16.32,16.12,15.92]\n",
    "n= 8\n",
    "mu= 16\n",
    "from scipy.stats import ttest_1samp\n",
    "ttest_1samp(obs,mu)"
   ]
  },
  {
   "cell_type": "markdown",
   "metadata": {},
   "source": [
    "#### d) Inference\n",
    "* Since value of pval>0.05.thus we accept Null Hypothesis, which further means that Alternate Hypothesis is False\n",
    "\n",
    "* Hence we can say that we have sufficient evidence to believe that observed tyre pressure is not significantly different from 16"
   ]
  },
  {
   "cell_type": "markdown",
   "metadata": {
    "colab_type": "text",
    "id": "07tXhslAJ5kp"
   },
   "source": [
    "<span style=\"font-family: Arial; font-weight:bold;font-size:1.5em;\">3. Now a days the online streaming services like Netflix, Amazon prime, is playing dominant role in the entertainment industry.  A public opinion poll surveyed on whether these online streaming services are better than cinema halls? On a sample of 100 random people (classified as teen/Adults/Senior Citizen) with a closed ended question (Yes or No). The details are captured. From the data ,identify the association between age category and voting preference? (Use level of significance as 5%). Use the dataframe \"Online\". \n",
    "\n",
    "A.Frame Null and Alternate Hypothesis. \n",
    "\n",
    "B.State which test to be performed.  \n",
    "\n",
    "C.Perform the test. \n",
    "\n",
    "D.Interpret the results.  "
   ]
  },
  {
   "cell_type": "code",
   "execution_count": 17,
   "metadata": {},
   "outputs": [],
   "source": [
    "# a) \n",
    "# H0: Proportion of peope who prefer online streaming  across different age group is  same.\n",
    "# Ha: Proportion of peope who prefer online streaming  across different age group is not same."
   ]
  },
  {
   "cell_type": "code",
   "execution_count": 18,
   "metadata": {},
   "outputs": [],
   "source": [
    "#b)\n",
    "\n",
    "# Test to be performed: Chi- Square (Multinomial)"
   ]
  },
  {
   "cell_type": "code",
   "execution_count": 19,
   "metadata": {},
   "outputs": [
    {
     "data": {
      "text/html": [
       "<div>\n",
       "<style scoped>\n",
       "    .dataframe tbody tr th:only-of-type {\n",
       "        vertical-align: middle;\n",
       "    }\n",
       "\n",
       "    .dataframe tbody tr th {\n",
       "        vertical-align: top;\n",
       "    }\n",
       "\n",
       "    .dataframe thead th {\n",
       "        text-align: right;\n",
       "    }\n",
       "</style>\n",
       "<table border=\"1\" class=\"dataframe\">\n",
       "  <thead>\n",
       "    <tr style=\"text-align: right;\">\n",
       "      <th></th>\n",
       "      <th>Age</th>\n",
       "      <th>Preference</th>\n",
       "    </tr>\n",
       "  </thead>\n",
       "  <tbody>\n",
       "    <tr>\n",
       "      <td>0</td>\n",
       "      <td>Teen</td>\n",
       "      <td>Yes</td>\n",
       "    </tr>\n",
       "    <tr>\n",
       "      <td>1</td>\n",
       "      <td>Teen</td>\n",
       "      <td>Yes</td>\n",
       "    </tr>\n",
       "    <tr>\n",
       "      <td>2</td>\n",
       "      <td>Teen</td>\n",
       "      <td>Yes</td>\n",
       "    </tr>\n",
       "    <tr>\n",
       "      <td>3</td>\n",
       "      <td>Teen</td>\n",
       "      <td>Yes</td>\n",
       "    </tr>\n",
       "    <tr>\n",
       "      <td>4</td>\n",
       "      <td>Teen</td>\n",
       "      <td>Yes</td>\n",
       "    </tr>\n",
       "  </tbody>\n",
       "</table>\n",
       "</div>"
      ],
      "text/plain": [
       "    Age Preference\n",
       "0  Teen        Yes\n",
       "1  Teen        Yes\n",
       "2  Teen        Yes\n",
       "3  Teen        Yes\n",
       "4  Teen        Yes"
      ]
     },
     "execution_count": 19,
     "metadata": {},
     "output_type": "execute_result"
    }
   ],
   "source": [
    "Online.head()"
   ]
  },
  {
   "cell_type": "code",
   "execution_count": 20,
   "metadata": {},
   "outputs": [
    {
     "data": {
      "text/html": [
       "<div>\n",
       "<style scoped>\n",
       "    .dataframe tbody tr th:only-of-type {\n",
       "        vertical-align: middle;\n",
       "    }\n",
       "\n",
       "    .dataframe tbody tr th {\n",
       "        vertical-align: top;\n",
       "    }\n",
       "\n",
       "    .dataframe thead th {\n",
       "        text-align: right;\n",
       "    }\n",
       "</style>\n",
       "<table border=\"1\" class=\"dataframe\">\n",
       "  <thead>\n",
       "    <tr style=\"text-align: right;\">\n",
       "      <th>Age</th>\n",
       "      <th>Adult</th>\n",
       "      <th>Senior Citizen</th>\n",
       "      <th>Teen</th>\n",
       "    </tr>\n",
       "    <tr>\n",
       "      <th>Preference</th>\n",
       "      <th></th>\n",
       "      <th></th>\n",
       "      <th></th>\n",
       "    </tr>\n",
       "  </thead>\n",
       "  <tbody>\n",
       "    <tr>\n",
       "      <td>No</td>\n",
       "      <td>17</td>\n",
       "      <td>15</td>\n",
       "      <td>10</td>\n",
       "    </tr>\n",
       "    <tr>\n",
       "      <td>Yes</td>\n",
       "      <td>13</td>\n",
       "      <td>12</td>\n",
       "      <td>32</td>\n",
       "    </tr>\n",
       "  </tbody>\n",
       "</table>\n",
       "</div>"
      ],
      "text/plain": [
       "Age         Adult  Senior Citizen  Teen\n",
       "Preference                             \n",
       "No             17              15    10\n",
       "Yes            13              12    32"
      ]
     },
     "execution_count": 20,
     "metadata": {},
     "output_type": "execute_result"
    }
   ],
   "source": [
    "#c)\n",
    "\n",
    "ct= pd.crosstab(Online[\"Preference\"],Online[\"Age\"])\n",
    "ct"
   ]
  },
  {
   "cell_type": "code",
   "execution_count": 21,
   "metadata": {},
   "outputs": [
    {
     "name": "stdout",
     "output_type": "stream",
     "text": [
      "Value of Pval: 0.005640745787809177\n"
     ]
    }
   ],
   "source": [
    "from scipy.stats import chi2_contingency\n",
    "\n",
    "chi_val,pval,dof,EC= chi2_contingency(ct)\n",
    "\n",
    "print(\"Value of Pval:\",pval)"
   ]
  },
  {
   "cell_type": "markdown",
   "metadata": {
    "colab": {},
    "colab_type": "code",
    "id": "-rN3FlrCJ5lB"
   },
   "source": [
    "#### d)  Inference\n",
    "\n",
    "* Since pval<0.05, thus we reject Null Hypothesis and accept Alternate Hypothesis which states that Proportion of peope who prefer online streaming  across different age group is not same.\n",
    "\n",
    "* This further require a Post- Hoc Analysis"
   ]
  },
  {
   "cell_type": "code",
   "execution_count": 22,
   "metadata": {},
   "outputs": [
    {
     "data": {
      "text/plain": [
       "(0.43333333333333335, 0.4444444444444444, 0.7619047619047619)"
      ]
     },
     "execution_count": 22,
     "metadata": {},
     "output_type": "execute_result"
    }
   ],
   "source": [
    "# Post- Hoc Analysis\n",
    "\n",
    "adult= 13/(13+17)\n",
    "sc= 12/(12+15)\n",
    "teen= 32/(32+10)\n",
    "adult,sc,teen"
   ]
  },
  {
   "cell_type": "markdown",
   "metadata": {},
   "source": [
    "#### Observation:\n",
    "* We observe that proportion of adult and senior citizen who prefer online streming is almost same, which is close to 44% and the proportion of teen prefering online streaming is the highest which is approx 76%."
   ]
  },
  {
   "cell_type": "markdown",
   "metadata": {
    "colab_type": "text",
    "id": "Uv7oTjyEJ5lJ"
   },
   "source": [
    "<span style=\"font-family: Arial; font-weight:bold;font-size:1.5em;\"> 4. In a survey, 200 people were asked to identify their major source of news information. 110 stated that their major source was television news.\n",
    "    \n",
    "i. Construct a 95% confidence interval for the proportion of people in the population who consider television their major source of news information.\n",
    "\n",
    "ii. How large a sample would be necessary to estimate the population proportion with a margin of error of .05 at 95% confidence? "
   ]
  },
  {
   "cell_type": "code",
   "execution_count": 24,
   "metadata": {},
   "outputs": [],
   "source": [
    "n=200\n",
    "n_sucess= 110\n",
    "alpha= 0.05"
   ]
  },
  {
   "cell_type": "code",
   "execution_count": 25,
   "metadata": {
    "colab": {},
    "colab_type": "code",
    "id": "76onCM2yJ5lL"
   },
   "outputs": [
    {
     "name": "stdout",
     "output_type": "stream",
     "text": [
      "Lower and Upper Range Estimate (0.4810521552867026, 0.6189478447132976)\n"
     ]
    }
   ],
   "source": [
    "# a) \n",
    "import statsmodels.stats.proportion as SMP\n",
    "LCI,UCI= SMP.proportion_confint(count= n_sucess,nobs=n,alpha= alpha,method=\"normal\")\n",
    "print(\"Lower and Upper Range Estimate\",(LCI,UCI))"
   ]
  },
  {
   "cell_type": "code",
   "execution_count": 26,
   "metadata": {},
   "outputs": [
    {
     "data": {
      "text/plain": [
       "1.9599639845400545"
      ]
     },
     "execution_count": 26,
     "metadata": {},
     "output_type": "execute_result"
    }
   ],
   "source": [
    "#b)\n",
    "x= 110\n",
    "n= 200\n",
    "# Sample Proportion :p\n",
    "p= x/n\n",
    "\n",
    "# expected margin of error: e\n",
    "e= 0.05\n",
    "\n",
    "# Critical Value\n",
    "z= stats.norm.isf(0.025)\n",
    "z\n",
    "\n",
    "# for 95%CI , at 5% significance value the crircal value is 1.96"
   ]
  },
  {
   "cell_type": "code",
   "execution_count": 27,
   "metadata": {},
   "outputs": [
    {
     "data": {
      "text/plain": [
       "380.30442324871854"
      ]
     },
     "execution_count": 27,
     "metadata": {},
     "output_type": "execute_result"
    }
   ],
   "source": [
    "n= (z*z*p*(1-p))/(e*e)\n",
    "n"
   ]
  },
  {
   "cell_type": "code",
   "execution_count": 28,
   "metadata": {},
   "outputs": [
    {
     "data": {
      "text/plain": [
       "380.31839999999994"
      ]
     },
     "execution_count": 28,
     "metadata": {},
     "output_type": "execute_result"
    }
   ],
   "source": [
    "n= (1.96*1.96*0.55*(1-0.55))/(0.05*0.05)\n",
    "n"
   ]
  },
  {
   "cell_type": "code",
   "execution_count": null,
   "metadata": {},
   "outputs": [],
   "source": [
    "# The sample size must be 380 for us to estimate the population proportion with a mrgin error of 0.5%."
   ]
  },
  {
   "cell_type": "markdown",
   "metadata": {
    "colab_type": "text",
    "id": "1DfRBwZeJ5lX"
   },
   "source": [
    "_________________"
   ]
  },
  {
   "cell_type": "markdown",
   "metadata": {
    "colab_type": "text",
    "id": "S7wNBnkKJ5lc"
   },
   "source": [
    "<span style=\"font-family: Arial; font-weight:bold;font-size:1.5em;\"> 5.The manufacturers of compact disk players want to test whether a small price reduction is enough to increase sales of their product. Is there evidence that the small price reduction is enough to increase sales of compact disk players?\n",
    "\n",
    "\n",
    "| Before reduction||After reduction  ||\n",
    "| ------|  ------ |--------------|-----------------|\n",
    "| n1=\t|15| \tn2 =| 12|\n",
    "| Average sales_ before=|Rs. 6598 ( in lakhs)  |Average sales _ after =| RS. 6870( in lakhs)|\n",
    "| s1=|Rs. 844( in lakhs)|     s2=| Rs. 669( in lakhs)|\n",
    "    \n",
    "i) Create the Hypothesis \n",
    "\n",
    "ii) Determine the Statistical Test and give the reason for the selection of the test.\n",
    "\n",
    "iii) Find the test statistics and pvalue\n",
    "\n",
    "iv) Interpret the Results\n",
    "\n",
    "**Note: Assume data is normally distributed and have equal variance.**"
   ]
  },
  {
   "cell_type": "code",
   "execution_count": 29,
   "metadata": {
    "colab": {},
    "colab_type": "code",
    "id": "-Udu7xFgJ5le"
   },
   "outputs": [],
   "source": [
    "#a)\n",
    "# H0: Average of sales without price reduction(before) =  Average of sales without price reduction(after)\n",
    "# Ha: Average of sales without price reduction(before) !=  Average of sales without price reduction(after)"
   ]
  },
  {
   "cell_type": "code",
   "execution_count": 30,
   "metadata": {},
   "outputs": [
    {
     "data": {
      "text/plain": [
       "(6170.877068624656, 7025.122931375344)"
      ]
     },
     "execution_count": 30,
     "metadata": {},
     "output_type": "execute_result"
    }
   ],
   "source": [
    "#finding tstat and pval before reduction:\n",
    "stats.norm.isf(0.025) \n",
    "sem= 844/np.sqrt(15)\n",
    "\n",
    "# Considering 95% CI\n",
    "6598- (1.96*sem), 6598+(1.96*sem)"
   ]
  },
  {
   "cell_type": "code",
   "execution_count": 31,
   "metadata": {},
   "outputs": [
    {
     "data": {
      "text/plain": [
       "(6491.477616513897, 7248.522383486103)"
      ]
     },
     "execution_count": 31,
     "metadata": {},
     "output_type": "execute_result"
    }
   ],
   "source": [
    "#finding tstat and pval after reduction:\n",
    "stats.norm.isf(0.025) \n",
    "sem= 669/np.sqrt(12)\n",
    "\n",
    "# Considering 95% CI\n",
    "6870- (1.96*sem), 6870+(1.96*sem)"
   ]
  },
  {
   "cell_type": "markdown",
   "metadata": {},
   "source": [
    "#### Conclusion\n",
    "\n",
    "* Comparing both ranges of avg sales before and after price reduction , we see that there is an overlapping range. Thus H0 is accepted\n",
    "Hence there is no significance increase in sales after price is reduced"
   ]
  },
  {
   "cell_type": "markdown",
   "metadata": {
    "colab_type": "text",
    "id": "MQZZAdWaJ5lo"
   },
   "source": [
    "<span style=\"font-family: Arial; font-weight:bold;font-size:1.5em;\"> 6.\tMultiple myeloma or blood plasma cancer is characterised by increased  blood vessel formulation (angiogenesis) in the bone marrow. One treatment approach used for multiple myeloma is stem cell transplantation with the patient’s own stem cells. The data given below represents the bone marrow micro vessel density for patients who had a complete response to the stem cell transplant (as measured by blood test). The measurements were taken before and after the transplant.\n",
    "\n",
    "|Patient|Before|After|\n",
    "|--|--|--|\n",
    "|1|158|284|\n",
    "|2|189|214|\n",
    "|3|202|101|\n",
    "|4|353|227|\n",
    "|5|416|290|\n",
    "|6|426|176|\n",
    "|7|441|290|\n",
    "\n",
    "\n",
    "a.\tAt the 0.05 level of significance, is there evidence that the mean bone marrow micro vessel density has decreased after the stem cell transplant? Interpret the test statistic and p-value from the result. \n",
    "\n",
    "c.\tConstruct and interpret the 95% confidence interval estimation of the mean difference in bone marrow micro vessel density before and after stem cell transplant. \n",
    "    \n",
    "**Note: Assume data is normally distributed and have equal variance.**"
   ]
  },
  {
   "cell_type": "code",
   "execution_count": 32,
   "metadata": {
    "colab": {},
    "colab_type": "code",
    "id": "i_-BLkdQJ5lp"
   },
   "outputs": [],
   "source": [
    "# a)\n",
    "# H0: Mean bone marrow vessel density before transplant is same as Mean bone marrow vessel density after transplant\n",
    "# Ha:  Mean bone marrow vessel density before transplant is not same as Mean bone marrow vessel density after transplant"
   ]
  },
  {
   "cell_type": "code",
   "execution_count": 33,
   "metadata": {},
   "outputs": [],
   "source": [
    "before= pd.Series([158,189,202,353,416,426,441])\n",
    "after= pd.Series([284,214,101,227,290,176,290])"
   ]
  },
  {
   "cell_type": "code",
   "execution_count": 34,
   "metadata": {},
   "outputs": [],
   "source": [
    "#b) Test to be perfromed:\n",
    "\n",
    "#Since We are checking average of bone marrow vessel density before and after  transplant, this is an example of Paired  Sample, with this its \n",
    "# also given that data is normal . Thus we will be selecting Paired Parametric test for this case.\n",
    "\n",
    "# We will be thus solving it with ttest_1samp:"
   ]
  },
  {
   "cell_type": "code",
   "execution_count": 35,
   "metadata": {},
   "outputs": [
    {
     "data": {
      "text/plain": [
       "Ttest_1sampResult(statistic=1.8424550291027728, pvalue=0.11498626687185708)"
      ]
     },
     "execution_count": 35,
     "metadata": {},
     "output_type": "execute_result"
    }
   ],
   "source": [
    "from scipy.stats import ttest_1samp\n",
    "ttest_1samp(before-after,0)"
   ]
  },
  {
   "cell_type": "markdown",
   "metadata": {},
   "source": [
    "#### Inference:\n",
    "Since we are getting pval more than 0.05. Thus we will accept Null Hypothesis which states that Mean bone marrow vessel density before transplant is same as Mean bone marrow vessel density after transplant. Thus there is no change after the transplant ."
   ]
  },
  {
   "cell_type": "code",
   "execution_count": 36,
   "metadata": {},
   "outputs": [
    {
     "data": {
      "text/plain": [
       "(64.64285714285714, 33.38626749342995)"
      ]
     },
     "execution_count": 36,
     "metadata": {},
     "output_type": "execute_result"
    }
   ],
   "source": [
    "#b)\n",
    "\n",
    "# To calculate mean difference and std  lets calculate:\n",
    "\n",
    "mean= [(284-158)/2,(214-189)/2,(202-101)/2,(353-227)/2,(416-290)/2,(426-176)/2,(441-290)/2]\n",
    "\n",
    "mean_val= np.mean(mean)\n",
    "std= np.std(mean,ddof=1)\n",
    "mean_val,std"
   ]
  },
  {
   "cell_type": "code",
   "execution_count": 37,
   "metadata": {},
   "outputs": [
    {
     "name": "stdout",
     "output_type": "stream",
     "text": [
      "Lower limit: -0.7942271442655624\n",
      "Upper limit: 130.07994142997984\n"
     ]
    }
   ],
   "source": [
    "# 95% confidence interval estimation of the mean difference in bone marrow micro vessel density before and after stem cell transplant.\n",
    "print(\"Lower limit:\",mean_val-(1.96*std))\n",
    "print(\"Upper limit:\",mean_val+(1.96*std))"
   ]
  },
  {
   "cell_type": "markdown",
   "metadata": {
    "colab_type": "text",
    "id": "vVON7DP_J5lz"
   },
   "source": [
    "_________________"
   ]
  },
  {
   "cell_type": "markdown",
   "metadata": {
    "colab_type": "text",
    "id": "rW06XfqWJ5l6"
   },
   "source": [
    "<span style=\"font-family: Arial; font-weight:bold;font-size:1.5em;\"> 7. The data set consists of complete educational details of students right from their schooling to MBA and previous work experience. Salary is the target variable.Use the dataframe \"Admission\".\n",
    "   \n",
    "\n",
    "Perform the following tasks on the data :\n",
    "\n",
    "i. List out the features( numerical and categorical) ?  \n",
    "\n",
    "ii. Frame Null and Alternate Hypothesis and perform the required statistical tests between any 4 categorical features.\n",
    "\n",
    "\n",
    "iii. Is there any influence of gender on the Salary received ?Frame the hypothesis and perform the test.\n",
    "\n",
    "iv. Interpret all the above test results. \n",
    "\n",
    "\n",
    "**Note: Assume all continuous columns are normally distributed and have equal variance.**"
   ]
  },
  {
   "cell_type": "code",
   "execution_count": 38,
   "metadata": {
    "colab": {},
    "colab_type": "code",
    "id": "9XuJgy7MJ5mP"
   },
   "outputs": [
    {
     "data": {
      "text/html": [
       "<div>\n",
       "<style scoped>\n",
       "    .dataframe tbody tr th:only-of-type {\n",
       "        vertical-align: middle;\n",
       "    }\n",
       "\n",
       "    .dataframe tbody tr th {\n",
       "        vertical-align: top;\n",
       "    }\n",
       "\n",
       "    .dataframe thead th {\n",
       "        text-align: right;\n",
       "    }\n",
       "</style>\n",
       "<table border=\"1\" class=\"dataframe\">\n",
       "  <thead>\n",
       "    <tr style=\"text-align: right;\">\n",
       "      <th></th>\n",
       "      <th>SlNo</th>\n",
       "      <th>Gender</th>\n",
       "      <th>Percent_SSC</th>\n",
       "      <th>Board_SSC</th>\n",
       "      <th>Percent_HSC</th>\n",
       "      <th>Board_HSC</th>\n",
       "      <th>Stream_HSC</th>\n",
       "      <th>Percent_Degree</th>\n",
       "      <th>Course_Degree</th>\n",
       "      <th>Experience_Yrs</th>\n",
       "      <th>Entrance_Test</th>\n",
       "      <th>Percentile_ET</th>\n",
       "      <th>Percent_MBA</th>\n",
       "      <th>Specialization_MBA</th>\n",
       "      <th>Marks_Communication</th>\n",
       "      <th>Marks_Projectwork</th>\n",
       "      <th>Marks_BOCA</th>\n",
       "      <th>Placement</th>\n",
       "      <th>Salary</th>\n",
       "    </tr>\n",
       "  </thead>\n",
       "  <tbody>\n",
       "    <tr>\n",
       "      <td>0</td>\n",
       "      <td>1.0</td>\n",
       "      <td>M</td>\n",
       "      <td>62.00</td>\n",
       "      <td>Others</td>\n",
       "      <td>88.00</td>\n",
       "      <td>Others</td>\n",
       "      <td>Commerce</td>\n",
       "      <td>52.00</td>\n",
       "      <td>Science</td>\n",
       "      <td>0.0</td>\n",
       "      <td>MAT</td>\n",
       "      <td>55.0</td>\n",
       "      <td>58.80</td>\n",
       "      <td>Marketing &amp; HR</td>\n",
       "      <td>50.0</td>\n",
       "      <td>65.0</td>\n",
       "      <td>74.0</td>\n",
       "      <td>Placed</td>\n",
       "      <td>270000.0</td>\n",
       "    </tr>\n",
       "    <tr>\n",
       "      <td>1</td>\n",
       "      <td>2.0</td>\n",
       "      <td>M</td>\n",
       "      <td>76.33</td>\n",
       "      <td>ICSE</td>\n",
       "      <td>75.33</td>\n",
       "      <td>Others</td>\n",
       "      <td>Science</td>\n",
       "      <td>75.48</td>\n",
       "      <td>Computer Applications</td>\n",
       "      <td>1.0</td>\n",
       "      <td>MAT</td>\n",
       "      <td>86.5</td>\n",
       "      <td>66.28</td>\n",
       "      <td>Marketing &amp; Finance</td>\n",
       "      <td>69.0</td>\n",
       "      <td>70.0</td>\n",
       "      <td>75.0</td>\n",
       "      <td>Placed</td>\n",
       "      <td>200000.0</td>\n",
       "    </tr>\n",
       "    <tr>\n",
       "      <td>2</td>\n",
       "      <td>3.0</td>\n",
       "      <td>M</td>\n",
       "      <td>72.00</td>\n",
       "      <td>Others</td>\n",
       "      <td>78.00</td>\n",
       "      <td>Others</td>\n",
       "      <td>Commerce</td>\n",
       "      <td>66.63</td>\n",
       "      <td>Engineering</td>\n",
       "      <td>0.0</td>\n",
       "      <td>NaN</td>\n",
       "      <td>0.0</td>\n",
       "      <td>52.91</td>\n",
       "      <td>Marketing &amp; Finance</td>\n",
       "      <td>50.0</td>\n",
       "      <td>61.0</td>\n",
       "      <td>59.0</td>\n",
       "      <td>Placed</td>\n",
       "      <td>240000.0</td>\n",
       "    </tr>\n",
       "    <tr>\n",
       "      <td>3</td>\n",
       "      <td>4.0</td>\n",
       "      <td>M</td>\n",
       "      <td>60.00</td>\n",
       "      <td>CBSE</td>\n",
       "      <td>63.00</td>\n",
       "      <td>CBSE</td>\n",
       "      <td>Arts</td>\n",
       "      <td>58.00</td>\n",
       "      <td>Management</td>\n",
       "      <td>0.0</td>\n",
       "      <td>MAT</td>\n",
       "      <td>75.0</td>\n",
       "      <td>57.80</td>\n",
       "      <td>Marketing &amp; Finance</td>\n",
       "      <td>54.0</td>\n",
       "      <td>66.0</td>\n",
       "      <td>62.0</td>\n",
       "      <td>Placed</td>\n",
       "      <td>250000.0</td>\n",
       "    </tr>\n",
       "    <tr>\n",
       "      <td>4</td>\n",
       "      <td>5.0</td>\n",
       "      <td>M</td>\n",
       "      <td>61.00</td>\n",
       "      <td>CBSE</td>\n",
       "      <td>55.00</td>\n",
       "      <td>ISC</td>\n",
       "      <td>Science</td>\n",
       "      <td>54.00</td>\n",
       "      <td>Engineering</td>\n",
       "      <td>1.0</td>\n",
       "      <td>MAT</td>\n",
       "      <td>66.0</td>\n",
       "      <td>59.43</td>\n",
       "      <td>Marketing &amp; HR</td>\n",
       "      <td>52.0</td>\n",
       "      <td>65.0</td>\n",
       "      <td>67.0</td>\n",
       "      <td>Placed</td>\n",
       "      <td>180000.0</td>\n",
       "    </tr>\n",
       "  </tbody>\n",
       "</table>\n",
       "</div>"
      ],
      "text/plain": [
       "   SlNo Gender  Percent_SSC Board_SSC  Percent_HSC Board_HSC Stream_HSC  \\\n",
       "0   1.0      M        62.00    Others        88.00    Others   Commerce   \n",
       "1   2.0      M        76.33      ICSE        75.33    Others    Science   \n",
       "2   3.0      M        72.00    Others        78.00    Others   Commerce   \n",
       "3   4.0      M        60.00      CBSE        63.00      CBSE       Arts   \n",
       "4   5.0      M        61.00      CBSE        55.00       ISC    Science   \n",
       "\n",
       "   Percent_Degree          Course_Degree  Experience_Yrs Entrance_Test  \\\n",
       "0           52.00                Science             0.0           MAT   \n",
       "1           75.48  Computer Applications             1.0           MAT   \n",
       "2           66.63            Engineering             0.0           NaN   \n",
       "3           58.00             Management             0.0           MAT   \n",
       "4           54.00            Engineering             1.0           MAT   \n",
       "\n",
       "   Percentile_ET  Percent_MBA   Specialization_MBA  Marks_Communication  \\\n",
       "0           55.0        58.80       Marketing & HR                 50.0   \n",
       "1           86.5        66.28  Marketing & Finance                 69.0   \n",
       "2            0.0        52.91  Marketing & Finance                 50.0   \n",
       "3           75.0        57.80  Marketing & Finance                 54.0   \n",
       "4           66.0        59.43       Marketing & HR                 52.0   \n",
       "\n",
       "   Marks_Projectwork  Marks_BOCA Placement    Salary  \n",
       "0               65.0        74.0    Placed  270000.0  \n",
       "1               70.0        75.0    Placed  200000.0  \n",
       "2               61.0        59.0    Placed  240000.0  \n",
       "3               66.0        62.0    Placed  250000.0  \n",
       "4               65.0        67.0    Placed  180000.0  "
      ]
     },
     "execution_count": 38,
     "metadata": {},
     "output_type": "execute_result"
    }
   ],
   "source": [
    "Admission.head()"
   ]
  },
  {
   "cell_type": "code",
   "execution_count": 39,
   "metadata": {},
   "outputs": [
    {
     "data": {
      "text/html": [
       "<div>\n",
       "<style scoped>\n",
       "    .dataframe tbody tr th:only-of-type {\n",
       "        vertical-align: middle;\n",
       "    }\n",
       "\n",
       "    .dataframe tbody tr th {\n",
       "        vertical-align: top;\n",
       "    }\n",
       "\n",
       "    .dataframe thead th {\n",
       "        text-align: right;\n",
       "    }\n",
       "</style>\n",
       "<table border=\"1\" class=\"dataframe\">\n",
       "  <thead>\n",
       "    <tr style=\"text-align: right;\">\n",
       "      <th></th>\n",
       "      <th>Gender</th>\n",
       "      <th>Board_SSC</th>\n",
       "      <th>Board_HSC</th>\n",
       "      <th>Stream_HSC</th>\n",
       "      <th>Course_Degree</th>\n",
       "      <th>Entrance_Test</th>\n",
       "      <th>Specialization_MBA</th>\n",
       "      <th>Placement</th>\n",
       "    </tr>\n",
       "  </thead>\n",
       "  <tbody>\n",
       "    <tr>\n",
       "      <td>0</td>\n",
       "      <td>M</td>\n",
       "      <td>Others</td>\n",
       "      <td>Others</td>\n",
       "      <td>Commerce</td>\n",
       "      <td>Science</td>\n",
       "      <td>MAT</td>\n",
       "      <td>Marketing &amp; HR</td>\n",
       "      <td>Placed</td>\n",
       "    </tr>\n",
       "    <tr>\n",
       "      <td>1</td>\n",
       "      <td>M</td>\n",
       "      <td>ICSE</td>\n",
       "      <td>Others</td>\n",
       "      <td>Science</td>\n",
       "      <td>Computer Applications</td>\n",
       "      <td>MAT</td>\n",
       "      <td>Marketing &amp; Finance</td>\n",
       "      <td>Placed</td>\n",
       "    </tr>\n",
       "    <tr>\n",
       "      <td>2</td>\n",
       "      <td>M</td>\n",
       "      <td>Others</td>\n",
       "      <td>Others</td>\n",
       "      <td>Commerce</td>\n",
       "      <td>Engineering</td>\n",
       "      <td>NaN</td>\n",
       "      <td>Marketing &amp; Finance</td>\n",
       "      <td>Placed</td>\n",
       "    </tr>\n",
       "    <tr>\n",
       "      <td>3</td>\n",
       "      <td>M</td>\n",
       "      <td>CBSE</td>\n",
       "      <td>CBSE</td>\n",
       "      <td>Arts</td>\n",
       "      <td>Management</td>\n",
       "      <td>MAT</td>\n",
       "      <td>Marketing &amp; Finance</td>\n",
       "      <td>Placed</td>\n",
       "    </tr>\n",
       "    <tr>\n",
       "      <td>4</td>\n",
       "      <td>M</td>\n",
       "      <td>CBSE</td>\n",
       "      <td>ISC</td>\n",
       "      <td>Science</td>\n",
       "      <td>Engineering</td>\n",
       "      <td>MAT</td>\n",
       "      <td>Marketing &amp; HR</td>\n",
       "      <td>Placed</td>\n",
       "    </tr>\n",
       "  </tbody>\n",
       "</table>\n",
       "</div>"
      ],
      "text/plain": [
       "  Gender Board_SSC Board_HSC Stream_HSC          Course_Degree Entrance_Test  \\\n",
       "0      M    Others    Others   Commerce                Science           MAT   \n",
       "1      M      ICSE    Others    Science  Computer Applications           MAT   \n",
       "2      M    Others    Others   Commerce            Engineering           NaN   \n",
       "3      M      CBSE      CBSE       Arts             Management           MAT   \n",
       "4      M      CBSE       ISC    Science            Engineering           MAT   \n",
       "\n",
       "    Specialization_MBA Placement  \n",
       "0       Marketing & HR    Placed  \n",
       "1  Marketing & Finance    Placed  \n",
       "2  Marketing & Finance    Placed  \n",
       "3  Marketing & Finance    Placed  \n",
       "4       Marketing & HR    Placed  "
      ]
     },
     "execution_count": 39,
     "metadata": {},
     "output_type": "execute_result"
    }
   ],
   "source": [
    "# a)\n",
    "df_num= Admission.select_dtypes(include= 'number')\n",
    "df_cat= Admission.select_dtypes(exclude= 'number')\n",
    "df_cat.head()\n"
   ]
  },
  {
   "cell_type": "code",
   "execution_count": 40,
   "metadata": {},
   "outputs": [],
   "source": [
    "#b)\n",
    "# First test b/w categorical feature: Gender and Placement\n",
    "# Test to be performed: Two Sample Proportion test"
   ]
  },
  {
   "cell_type": "code",
   "execution_count": 41,
   "metadata": {},
   "outputs": [
    {
     "data": {
      "text/plain": [
       "Placed        312\n",
       "Not Placed     79\n",
       "Name: Placement, dtype: int64"
      ]
     },
     "execution_count": 41,
     "metadata": {},
     "output_type": "execute_result"
    }
   ],
   "source": [
    "df_cat[\"Gender\"].value_counts()\n",
    "df_cat[\"Placement\"].value_counts()"
   ]
  },
  {
   "cell_type": "code",
   "execution_count": 42,
   "metadata": {},
   "outputs": [],
   "source": [
    "# Framing of Null and Alternate Hypothesis\n",
    "# H0: Proportion of males placed = proportion of females placed\n",
    "# Ha: Proportion of males placed != proportion of females placed"
   ]
  },
  {
   "cell_type": "code",
   "execution_count": 43,
   "metadata": {},
   "outputs": [
    {
     "data": {
      "text/html": [
       "<div>\n",
       "<style scoped>\n",
       "    .dataframe tbody tr th:only-of-type {\n",
       "        vertical-align: middle;\n",
       "    }\n",
       "\n",
       "    .dataframe tbody tr th {\n",
       "        vertical-align: top;\n",
       "    }\n",
       "\n",
       "    .dataframe thead th {\n",
       "        text-align: right;\n",
       "    }\n",
       "</style>\n",
       "<table border=\"1\" class=\"dataframe\">\n",
       "  <thead>\n",
       "    <tr style=\"text-align: right;\">\n",
       "      <th>Gender</th>\n",
       "      <th>F</th>\n",
       "      <th>M</th>\n",
       "    </tr>\n",
       "    <tr>\n",
       "      <th>Placement</th>\n",
       "      <th></th>\n",
       "      <th></th>\n",
       "    </tr>\n",
       "  </thead>\n",
       "  <tbody>\n",
       "    <tr>\n",
       "      <td>Not Placed</td>\n",
       "      <td>30</td>\n",
       "      <td>49</td>\n",
       "    </tr>\n",
       "    <tr>\n",
       "      <td>Placed</td>\n",
       "      <td>97</td>\n",
       "      <td>215</td>\n",
       "    </tr>\n",
       "  </tbody>\n",
       "</table>\n",
       "</div>"
      ],
      "text/plain": [
       "Gender       F    M\n",
       "Placement          \n",
       "Not Placed  30   49\n",
       "Placed      97  215"
      ]
     },
     "execution_count": 43,
     "metadata": {},
     "output_type": "execute_result"
    }
   ],
   "source": [
    "ct= pd.crosstab(df_cat[\"Placement\"],df_cat[\"Gender\"])\n",
    "ct"
   ]
  },
  {
   "cell_type": "code",
   "execution_count": 44,
   "metadata": {},
   "outputs": [
    {
     "data": {
      "text/plain": [
       "(-1.1672813707523875, 0.24309675935715924)"
      ]
     },
     "execution_count": 44,
     "metadata": {},
     "output_type": "execute_result"
    }
   ],
   "source": [
    "from statsmodels.stats.proportion import proportions_ztest\n",
    "x= np.array([97,215])\n",
    "n= np.array([127,264])\n",
    "proportions_ztest(x,n)"
   ]
  },
  {
   "cell_type": "markdown",
   "metadata": {},
   "source": [
    "#### Inference:\n",
    "\n",
    "* Since pval >0.05, thus we accept null Hypothesis which says that Proportion of males placed is equal to  proportion of females placed"
   ]
  },
  {
   "cell_type": "code",
   "execution_count": null,
   "metadata": {},
   "outputs": [],
   "source": [
    "#  Second Test to be performed b/w Course degree and gender: Chi- Square(Multinomial)"
   ]
  },
  {
   "cell_type": "code",
   "execution_count": 45,
   "metadata": {},
   "outputs": [
    {
     "data": {
      "text/plain": [
       "M    264\n",
       "F    127\n",
       "Name: Gender, dtype: int64"
      ]
     },
     "execution_count": 45,
     "metadata": {},
     "output_type": "execute_result"
    }
   ],
   "source": [
    "df_cat[\"Course_Degree\"].value_counts()\n",
    "df_cat[\"Gender\"].value_counts()"
   ]
  },
  {
   "cell_type": "code",
   "execution_count": 46,
   "metadata": {},
   "outputs": [],
   "source": [
    "# H0: proportion of gender across all types of course degree is same\n",
    "# Ha: proportion of gender across all types of course degree is not same"
   ]
  },
  {
   "cell_type": "code",
   "execution_count": 47,
   "metadata": {},
   "outputs": [
    {
     "data": {
      "text/html": [
       "<div>\n",
       "<style scoped>\n",
       "    .dataframe tbody tr th:only-of-type {\n",
       "        vertical-align: middle;\n",
       "    }\n",
       "\n",
       "    .dataframe tbody tr th {\n",
       "        vertical-align: top;\n",
       "    }\n",
       "\n",
       "    .dataframe thead th {\n",
       "        text-align: right;\n",
       "    }\n",
       "</style>\n",
       "<table border=\"1\" class=\"dataframe\">\n",
       "  <thead>\n",
       "    <tr style=\"text-align: right;\">\n",
       "      <th>Course_Degree</th>\n",
       "      <th>Arts</th>\n",
       "      <th>Commerce</th>\n",
       "      <th>Computer Applications</th>\n",
       "      <th>Engineering</th>\n",
       "      <th>Management</th>\n",
       "      <th>Others</th>\n",
       "      <th>Science</th>\n",
       "    </tr>\n",
       "    <tr>\n",
       "      <th>Gender</th>\n",
       "      <th></th>\n",
       "      <th></th>\n",
       "      <th></th>\n",
       "      <th></th>\n",
       "      <th></th>\n",
       "      <th></th>\n",
       "      <th></th>\n",
       "    </tr>\n",
       "  </thead>\n",
       "  <tbody>\n",
       "    <tr>\n",
       "      <td>F</td>\n",
       "      <td>8</td>\n",
       "      <td>36</td>\n",
       "      <td>9</td>\n",
       "      <td>10</td>\n",
       "      <td>55</td>\n",
       "      <td>2</td>\n",
       "      <td>7</td>\n",
       "    </tr>\n",
       "    <tr>\n",
       "      <td>M</td>\n",
       "      <td>5</td>\n",
       "      <td>81</td>\n",
       "      <td>23</td>\n",
       "      <td>27</td>\n",
       "      <td>108</td>\n",
       "      <td>3</td>\n",
       "      <td>17</td>\n",
       "    </tr>\n",
       "  </tbody>\n",
       "</table>\n",
       "</div>"
      ],
      "text/plain": [
       "Course_Degree  Arts  Commerce  Computer Applications  Engineering  Management  \\\n",
       "Gender                                                                          \n",
       "F                 8        36                      9           10          55   \n",
       "M                 5        81                     23           27         108   \n",
       "\n",
       "Course_Degree  Others  Science  \n",
       "Gender                          \n",
       "F                   2        7  \n",
       "M                   3       17  "
      ]
     },
     "execution_count": 47,
     "metadata": {},
     "output_type": "execute_result"
    }
   ],
   "source": [
    "CT= pd.crosstab(df_cat[\"Gender\"],df_cat[\"Course_Degree\"])\n",
    "CT"
   ]
  },
  {
   "cell_type": "code",
   "execution_count": 48,
   "metadata": {},
   "outputs": [
    {
     "name": "stdout",
     "output_type": "stream",
     "text": [
      "Value of Pval: 0.3896503520874127\n"
     ]
    }
   ],
   "source": [
    "from scipy.stats import chi2_contingency\n",
    "\n",
    "chi_val,pval,dof,EC= chi2_contingency(CT)\n",
    "\n",
    "print(\"Value of Pval:\",pval)"
   ]
  },
  {
   "cell_type": "markdown",
   "metadata": {},
   "source": [
    "#### Inference:\n",
    "\n",
    "* Since pval >0.05, thus we accept null Hypothesis which says that proportion of gender across all types of course degree is same"
   ]
  },
  {
   "cell_type": "code",
   "execution_count": 49,
   "metadata": {},
   "outputs": [],
   "source": [
    "#  Third Test to be performed b/w Board_SSC and Placement: Chi- Square(Multinomial)"
   ]
  },
  {
   "cell_type": "code",
   "execution_count": 50,
   "metadata": {},
   "outputs": [],
   "source": [
    "# H0: proportion of placed students across all types of Board_SSC is same\n",
    "# Ha: proportion of placed students across all types of Board_SSC is not same"
   ]
  },
  {
   "cell_type": "code",
   "execution_count": 51,
   "metadata": {},
   "outputs": [
    {
     "data": {
      "text/html": [
       "<div>\n",
       "<style scoped>\n",
       "    .dataframe tbody tr th:only-of-type {\n",
       "        vertical-align: middle;\n",
       "    }\n",
       "\n",
       "    .dataframe tbody tr th {\n",
       "        vertical-align: top;\n",
       "    }\n",
       "\n",
       "    .dataframe thead th {\n",
       "        text-align: right;\n",
       "    }\n",
       "</style>\n",
       "<table border=\"1\" class=\"dataframe\">\n",
       "  <thead>\n",
       "    <tr style=\"text-align: right;\">\n",
       "      <th>Board_SSC</th>\n",
       "      <th>CBSE</th>\n",
       "      <th>ICSE</th>\n",
       "      <th>Others</th>\n",
       "    </tr>\n",
       "    <tr>\n",
       "      <th>Placement</th>\n",
       "      <th></th>\n",
       "      <th></th>\n",
       "      <th></th>\n",
       "    </tr>\n",
       "  </thead>\n",
       "  <tbody>\n",
       "    <tr>\n",
       "      <td>Not Placed</td>\n",
       "      <td>19</td>\n",
       "      <td>17</td>\n",
       "      <td>43</td>\n",
       "    </tr>\n",
       "    <tr>\n",
       "      <td>Placed</td>\n",
       "      <td>94</td>\n",
       "      <td>60</td>\n",
       "      <td>158</td>\n",
       "    </tr>\n",
       "  </tbody>\n",
       "</table>\n",
       "</div>"
      ],
      "text/plain": [
       "Board_SSC   CBSE  ICSE  Others\n",
       "Placement                     \n",
       "Not Placed    19    17      43\n",
       "Placed        94    60     158"
      ]
     },
     "execution_count": 51,
     "metadata": {},
     "output_type": "execute_result"
    }
   ],
   "source": [
    "CT= pd.crosstab(df_cat[\"Placement\"],df_cat[\"Board_SSC\"])\n",
    "CT"
   ]
  },
  {
   "cell_type": "code",
   "execution_count": 52,
   "metadata": {},
   "outputs": [
    {
     "name": "stdout",
     "output_type": "stream",
     "text": [
      "Value of Pval: 0.5628825232508072\n"
     ]
    }
   ],
   "source": [
    "from scipy.stats import chi2_contingency\n",
    "\n",
    "chi_val,pval,dof,EC= chi2_contingency(CT)\n",
    "\n",
    "print(\"Value of Pval:\",pval)"
   ]
  },
  {
   "cell_type": "markdown",
   "metadata": {},
   "source": [
    "#### Inference:\n",
    "\n",
    "* Since pval >0.05, thus we accept null Hypothesis which says that proportion of placed students across all types of Board_SSC is same"
   ]
  },
  {
   "cell_type": "code",
   "execution_count": 53,
   "metadata": {},
   "outputs": [],
   "source": [
    "#  Fourth Test to be performed b/w Specialization_MBA and Entrance_Test: Chi- Square(Multinomial)"
   ]
  },
  {
   "cell_type": "code",
   "execution_count": 54,
   "metadata": {},
   "outputs": [],
   "source": [
    "# H0: proportion of Specilaization_MBA across all types of enterance_test is same\n",
    "# Ha: proportion of Specilaization_MBA across all types of enterance_test is not same"
   ]
  },
  {
   "cell_type": "code",
   "execution_count": 55,
   "metadata": {},
   "outputs": [
    {
     "data": {
      "text/html": [
       "<div>\n",
       "<style scoped>\n",
       "    .dataframe tbody tr th:only-of-type {\n",
       "        vertical-align: middle;\n",
       "    }\n",
       "\n",
       "    .dataframe tbody tr th {\n",
       "        vertical-align: top;\n",
       "    }\n",
       "\n",
       "    .dataframe thead th {\n",
       "        text-align: right;\n",
       "    }\n",
       "</style>\n",
       "<table border=\"1\" class=\"dataframe\">\n",
       "  <thead>\n",
       "    <tr style=\"text-align: right;\">\n",
       "      <th>Entrance_Test</th>\n",
       "      <th>CAT</th>\n",
       "      <th>G-MAT</th>\n",
       "      <th>G-SAT</th>\n",
       "      <th>GCET</th>\n",
       "      <th>K-MAT</th>\n",
       "      <th>MAT</th>\n",
       "      <th>PGCET</th>\n",
       "      <th>XAT</th>\n",
       "    </tr>\n",
       "    <tr>\n",
       "      <th>Specialization_MBA</th>\n",
       "      <th></th>\n",
       "      <th></th>\n",
       "      <th></th>\n",
       "      <th></th>\n",
       "      <th></th>\n",
       "      <th></th>\n",
       "      <th></th>\n",
       "      <th></th>\n",
       "    </tr>\n",
       "  </thead>\n",
       "  <tbody>\n",
       "    <tr>\n",
       "      <td>Marketing &amp; Finance</td>\n",
       "      <td>14</td>\n",
       "      <td>0</td>\n",
       "      <td>1</td>\n",
       "      <td>2</td>\n",
       "      <td>11</td>\n",
       "      <td>150</td>\n",
       "      <td>3</td>\n",
       "      <td>1</td>\n",
       "    </tr>\n",
       "    <tr>\n",
       "      <td>Marketing &amp; HR</td>\n",
       "      <td>7</td>\n",
       "      <td>1</td>\n",
       "      <td>0</td>\n",
       "      <td>0</td>\n",
       "      <td>11</td>\n",
       "      <td>108</td>\n",
       "      <td>3</td>\n",
       "      <td>0</td>\n",
       "    </tr>\n",
       "    <tr>\n",
       "      <td>Marketing &amp; IB</td>\n",
       "      <td>1</td>\n",
       "      <td>0</td>\n",
       "      <td>0</td>\n",
       "      <td>0</td>\n",
       "      <td>2</td>\n",
       "      <td>7</td>\n",
       "      <td>2</td>\n",
       "      <td>0</td>\n",
       "    </tr>\n",
       "  </tbody>\n",
       "</table>\n",
       "</div>"
      ],
      "text/plain": [
       "Entrance_Test        CAT  G-MAT  G-SAT  GCET  K-MAT  MAT  PGCET  XAT\n",
       "Specialization_MBA                                                  \n",
       "Marketing & Finance   14      0      1     2     11  150      3    1\n",
       "Marketing & HR         7      1      0     0     11  108      3    0\n",
       "Marketing & IB         1      0      0     0      2    7      2    0"
      ]
     },
     "execution_count": 55,
     "metadata": {},
     "output_type": "execute_result"
    }
   ],
   "source": [
    "CT= pd.crosstab(df_cat[\"Specialization_MBA\"],df_cat[\"Entrance_Test\"])\n",
    "CT"
   ]
  },
  {
   "cell_type": "code",
   "execution_count": 56,
   "metadata": {},
   "outputs": [
    {
     "name": "stdout",
     "output_type": "stream",
     "text": [
      "Value of Pval: 0.1874165903777379\n"
     ]
    }
   ],
   "source": [
    "from scipy.stats import chi2_contingency\n",
    "\n",
    "chi_val,pval,dof,EC= chi2_contingency(CT)\n",
    "\n",
    "print(\"Value of Pval:\",pval)"
   ]
  },
  {
   "cell_type": "markdown",
   "metadata": {},
   "source": [
    "#### Inference:\n",
    "\n",
    "* Since pval >0.05, thus we accept null Hypothesis which says that proportion of Specilaization_MBA across all types of enterance_test is same"
   ]
  },
  {
   "cell_type": "code",
   "execution_count": 57,
   "metadata": {},
   "outputs": [],
   "source": [
    "# #c)\n",
    "# gender v/s salary\n",
    "\n",
    "# Test to be performed: 2-sample mean test. Since gender is an example of Unpaired sample, and its given data is normal. thus we will\n",
    "# perform Unpaired + Parametric test"
   ]
  },
  {
   "cell_type": "code",
   "execution_count": 58,
   "metadata": {},
   "outputs": [],
   "source": [
    "# Ho: Average salary of males = Average salary of females\n",
    "# Ha: Average salary of males != Average salary of females"
   ]
  },
  {
   "cell_type": "code",
   "execution_count": 59,
   "metadata": {},
   "outputs": [],
   "source": [
    "df= Admission.groupby(\"Gender\")\n",
    "df_m= df.get_group(\"M\")\n",
    "df_f= df.get_group(\"F\")"
   ]
  },
  {
   "cell_type": "code",
   "execution_count": 60,
   "metadata": {},
   "outputs": [
    {
     "data": {
      "text/plain": [
       "Ttest_indResult(statistic=2.57570858963061, pvalue=0.010371783657249766)"
      ]
     },
     "execution_count": 60,
     "metadata": {},
     "output_type": "execute_result"
    }
   ],
   "source": [
    "from scipy.stats import ttest_ind\n",
    "ttest_ind(df_m[\"Salary\"],df_f[\"Salary\"])"
   ]
  },
  {
   "cell_type": "markdown",
   "metadata": {},
   "source": [
    "#### Inference:\n",
    "\n",
    "* Since pval <0.05. Thus we will reject null hypothesis and accept Alternate which says that Average salary of males is not same as  Average salary of females"
   ]
  },
  {
   "cell_type": "code",
   "execution_count": 61,
   "metadata": {},
   "outputs": [
    {
     "data": {
      "text/plain": [
       "count       264.000000\n",
       "mean     231484.848485\n",
       "std      142489.782695\n",
       "min           0.000000\n",
       "25%      180000.000000\n",
       "50%      250000.000000\n",
       "75%      300000.000000\n",
       "max      940000.000000\n",
       "Name: Salary, dtype: float64"
      ]
     },
     "execution_count": 61,
     "metadata": {},
     "output_type": "execute_result"
    }
   ],
   "source": [
    "## Post- Hoc Analysis\n",
    "df_m[\"Salary\"].describe()"
   ]
  },
  {
   "cell_type": "code",
   "execution_count": 62,
   "metadata": {},
   "outputs": [
    {
     "data": {
      "text/plain": [
       "count       127.000000\n",
       "mean     193288.188976\n",
       "std      125857.648622\n",
       "min           0.000000\n",
       "25%      147000.000000\n",
       "50%      220000.000000\n",
       "75%      269500.000000\n",
       "max      650000.000000\n",
       "Name: Salary, dtype: float64"
      ]
     },
     "execution_count": 62,
     "metadata": {},
     "output_type": "execute_result"
    }
   ],
   "source": [
    "df_f[\"Salary\"].describe()"
   ]
  },
  {
   "cell_type": "markdown",
   "metadata": {},
   "source": [
    "#### d) Inference:\n",
    "\n",
    "* We can clearly observe that average slary of males is more than average salary of females."
   ]
  },
  {
   "cell_type": "markdown",
   "metadata": {
    "colab_type": "text",
    "id": "9uWcdAZzJ5mY"
   },
   "source": [
    "<span style=\"font-family: Arial; font-weight:bold;font-size:1.5em;\"> 8.   Give the answers for the following hypothesis. Use the dataframe \"Outlet\".\n",
    "\n",
    "a.\tDoes Item fat content have any effect on item outlet sales?   \n",
    "\n",
    "b.\tDoes outlet establishment year have any effect on item outlet sales? \n",
    "\n",
    "c.\tDoes item mrp have any effect on item outlet sales? \n",
    "\n",
    "d.\tDoes item visibility have any effect on item outlet sales? \n",
    "\n",
    "e.\tDoes item weight have any effect on item outlet sales?.(Drop the null values in the item weight) \n",
    "\n",
    "\n",
    "**Note: Assume all the continuous columns are normally distributed and have equal variance.**"
   ]
  },
  {
   "cell_type": "code",
   "execution_count": 63,
   "metadata": {
    "colab": {},
    "colab_type": "code",
    "id": "pzLIu4EvJ5mw"
   },
   "outputs": [
    {
     "data": {
      "text/plain": [
       "Low Fat    657\n",
       "Regular    339\n",
       "Name: Item_Fat_Content, dtype: int64"
      ]
     },
     "execution_count": 63,
     "metadata": {},
     "output_type": "execute_result"
    }
   ],
   "source": [
    "Outlet[\"Item_Fat_Content\"].value_counts()\n"
   ]
  },
  {
   "cell_type": "code",
   "execution_count": null,
   "metadata": {},
   "outputs": [],
   "source": [
    "# #a)\n",
    "# fat_content v/s outlet_sales\n",
    "\n",
    "# Test to be performed: 2-sample mean test. Since fat_content is an example of Unpaired sample, and its given data is normal. thus we will\n",
    "# perform Unpaired + Parametric test"
   ]
  },
  {
   "cell_type": "code",
   "execution_count": null,
   "metadata": {},
   "outputs": [],
   "source": [
    "# Ho: Average sales of Low_fat = Average sales of regular \n",
    "# Ha: Average sales of Low_fat != Average sales of regular "
   ]
  },
  {
   "cell_type": "code",
   "execution_count": 64,
   "metadata": {},
   "outputs": [],
   "source": [
    "df= Outlet.groupby(\"Item_Fat_Content\")\n",
    "df_lf= df.get_group(\"Low Fat\")\n",
    "df_r= df.get_group(\"Regular\")"
   ]
  },
  {
   "cell_type": "code",
   "execution_count": 65,
   "metadata": {},
   "outputs": [
    {
     "data": {
      "text/plain": [
       "Ttest_indResult(statistic=-0.9957231423832787, pvalue=0.319627009711392)"
      ]
     },
     "execution_count": 65,
     "metadata": {},
     "output_type": "execute_result"
    }
   ],
   "source": [
    "from scipy.stats import ttest_ind\n",
    "ttest_ind(df_lf[\"Item_Outlet_Sales\"],df_r[\"Item_Outlet_Sales\"])"
   ]
  },
  {
   "cell_type": "markdown",
   "metadata": {},
   "source": [
    "#### Inference:\n",
    "\n",
    "* Since pval >0.05. Thus we will accept null hypothesis which says that Average sales of Low_fat is equal to Average sales of regular "
   ]
  },
  {
   "cell_type": "code",
   "execution_count": 66,
   "metadata": {},
   "outputs": [
    {
     "data": {
      "text/plain": [
       "1985    185\n",
       "2002    120\n",
       "1997    116\n",
       "1987    115\n",
       "2004    106\n",
       "2007    100\n",
       "2009     96\n",
       "1999     95\n",
       "1998     63\n",
       "Name: Outlet_Establishment_Year, dtype: int64"
      ]
     },
     "execution_count": 66,
     "metadata": {},
     "output_type": "execute_result"
    }
   ],
   "source": [
    "#b)\n",
    "Outlet[\"Outlet_Establishment_Year\"].value_counts()"
   ]
  },
  {
   "cell_type": "code",
   "execution_count": 67,
   "metadata": {},
   "outputs": [],
   "source": [
    "# Test to be performed Annova\n",
    "\n",
    "# H0: Average sales across different years is same \n",
    "# Ha: Average sales across different years is not same "
   ]
  },
  {
   "cell_type": "code",
   "execution_count": 68,
   "metadata": {},
   "outputs": [],
   "source": [
    "import statsmodels.api as sm\n",
    "from statsmodels.formula.api import ols\n",
    "from statsmodels.stats.anova import anova_lm"
   ]
  },
  {
   "cell_type": "code",
   "execution_count": 69,
   "metadata": {},
   "outputs": [],
   "source": [
    "Y= Outlet.groupby(\"Outlet_Establishment_Year\")\n",
    "Y1= Y.get_group(1985)\n",
    "Y2= Y.get_group(2002)\n",
    "Y3= Y.get_group(1997)\n",
    "Y4= Y.get_group(1987)\n",
    "Y5= Y.get_group(2004)\n",
    "Y6= Y.get_group(2007)\n",
    "Y7= Y.get_group(2009)\n",
    "Y8= Y.get_group(1999)\n",
    "Y9= Y.get_group(1998)"
   ]
  },
  {
   "cell_type": "code",
   "execution_count": 70,
   "metadata": {},
   "outputs": [
    {
     "data": {
      "text/plain": [
       "F_onewayResult(statistic=11.511233526468702, pvalue=1.0245929453122375e-15)"
      ]
     },
     "execution_count": 70,
     "metadata": {},
     "output_type": "execute_result"
    }
   ],
   "source": [
    "from scipy.stats import f_oneway\n",
    "f_oneway(Y1[\"Item_Outlet_Sales\"],Y2[\"Item_Outlet_Sales\"],Y3[\"Item_Outlet_Sales\"],Y4[\"Item_Outlet_Sales\"],\n",
    "        Y5['Item_Outlet_Sales'],Y6[\"Item_Outlet_Sales\"],Y7[\"Item_Outlet_Sales\"],Y8[\"Item_Outlet_Sales\"],Y9[\"Item_Outlet_Sales\"])"
   ]
  },
  {
   "cell_type": "markdown",
   "metadata": {},
   "source": [
    "* Since pval <0.05, thus we reject null hypothesis which says that Average sales across different years is same.Hence we can say that average sales across different years is not same."
   ]
  },
  {
   "cell_type": "code",
   "execution_count": 71,
   "metadata": {},
   "outputs": [
    {
     "data": {
      "text/plain": [
       "<AxesSubplot:>"
      ]
     },
     "execution_count": 71,
     "metadata": {},
     "output_type": "execute_result"
    },
    {
     "data": {
      "image/png": "[encoded data removed]",
      "text/plain": [
       "<Figure size 432x288 with 2 Axes>"
      ]
     },
     "metadata": {
      "needs_background": "light"
     },
     "output_type": "display_data"
    }
   ],
   "source": [
    "# Solution for c,d,e\n",
    "\n",
    "# Dropping n/a values for weight column\n",
    "Outlet[\"Item_Weight\"]= Outlet[\"Item_Weight\"].dropna()\n",
    "sns.heatmap(Outlet.corr(),annot= True)"
   ]
  },
  {
   "cell_type": "markdown",
   "metadata": {},
   "source": [
    "#### c) Inference\n",
    "Item Outlet sales v/s Item _MRP\n",
    "\n",
    "From above heatmap we can observe that correlation b/w these 2 variables is 0.58, which is medium positive correlation\n",
    "Thus we can say that feature Item_MRP is affecting the Outlet sales at a medium level.\n"
   ]
  },
  {
   "cell_type": "markdown",
   "metadata": {},
   "source": [
    "#### d) Inference\n",
    "\n",
    "Item Outlet sales v/s Item _Vissibility\n",
    "\n",
    "From above heatmap we can observe that correlation b/w these 2 variables is 0.093 which is very less than 0.5 and negative correlated\n",
    "Thus we can say that feature Item_visibility is not  affecting the Outlet sales "
   ]
  },
  {
   "cell_type": "markdown",
   "metadata": {},
   "source": [
    "#### e) Inference\n",
    "\n",
    "Item Weight v/s Item Outlet sales\n",
    "\n",
    "From above heatmap we can observe that correlation b/w these 2 variables is 0.02, which has a very less positive correlation \n",
    "Thus we can say that feature item_Weight is not  affecting the Outlet sales "
   ]
  }
 ],
 "metadata": {
  "colab": {
   "name": "Final_STAT_Set7_Question.ipynb",
   "provenance": []
  },
  "kernelspec": {
   "display_name": "Python 3",
   "language": "python",
   "name": "python3"
  },
  "language_info": {
   "codemirror_mode": {
    "name": "ipython",
    "version": 3
   },
   "file_extension": ".py",
   "mimetype": "text/x-python",
   "name": "python",
   "nbconvert_exporter": "python",
   "pygments_lexer": "ipython3",
   "version": "3.7.4"
  }
 },
 "nbformat": 4,
 "nbformat_minor": 1
}
